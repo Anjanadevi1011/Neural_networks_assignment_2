{
 "cells": [
  {
   "cell_type": "code",
   "execution_count": 23,
   "id": "1857e542",
   "metadata": {},
   "outputs": [
    {
     "name": "stdout",
     "output_type": "stream",
     "text": [
      "enter you Firstname: anjana\n",
      "enter Last_name: devi\n",
      "anjana devi\n"
     ]
    }
   ],
   "source": [
    "\"'Write a program that takes two strings from the user: first_name, last_name. Pass these variables to fullname function that should return the (full name).'\"\n",
    "\n",
    "def fullname(First_name,Last_name):\n",
    "    fullname=Fn+\" \"+Ln\n",
    "    print(fullname)\n",
    "Fn=input(\"enter you Firstname: \")\n",
    "Ln=input(\"enter Last_name: \")\n",
    "fullname(Fn,Ln)\n"
   ]
  },
  {
   "cell_type": "code",
   "execution_count": 5,
   "id": "85154a4a",
   "metadata": {},
   "outputs": [
    {
     "name": "stdout",
     "output_type": "stream",
     "text": [
      "Enter a string: anjana devi\n",
      "ajn ei\n"
     ]
    }
   ],
   "source": [
    "\"'Write function named “string_alternative” that returns every other char in the full_name string. '\"\n",
    "\"'You need to create a function named “string_alternative” for this program and call it from main function.'\"\n",
    "\n",
    "def string_alternative(input_string):\n",
    "    alt = \"\"\n",
    "    for i in range(0, len(input_string)):\n",
    "        if i % 2 == 0:\n",
    "            alt = alt + input_string[i]\n",
    "    return alt\n",
    "\n",
    "def main():\n",
    "    string_A = input(\"Enter a string: \")\n",
    "    result = string_alternative(string_A)\n",
    "    print(result)\n",
    "\n",
    "if __name__ == \"__main__\":\n",
    "    main()\n",
    "    \n",
    "    "
   ]
  },
  {
   "cell_type": "code",
   "execution_count": 20,
   "id": "04b74658",
   "metadata": {},
   "outputs": [
    {
     "name": "stdout",
     "output_type": "stream",
     "text": [
      "Python: 1\n",
      "Course: 2\n",
      "Deep: 1\n",
      "Learning: 1\n",
      "\n"
     ]
    }
   ],
   "source": [
    "\"'Write a python program to find the wordcount in a file (input.txt) for each line and then print the output.o Finally store the output in output.txt file. '\"\n",
    "\n",
    "input_file_path = 'input.txt'\n",
    "output_file_path = 'output.txt'\n",
    "\n",
    "with open(input_file_path, 'r') as ipf:\n",
    "    line = ipf.read()\n",
    "    words = line.split()\n",
    "    word_count = {}\n",
    "\n",
    "    for word in words:\n",
    "        word_count[word] = word_count.get(word, 0) + 1\n",
    "\n",
    "with open(output_file_path, 'w') as opf:\n",
    "    for word, count in word_count.items():\n",
    "        opf.write(f\"{word}: {count}\\n\")\n",
    "\n",
    "with open(output_file_path, 'r') as opf:\n",
    "    print(opf.read())\n"
   ]
  },
  {
   "cell_type": "code",
   "execution_count": 22,
   "id": "74fa51a3",
   "metadata": {},
   "outputs": [
    {
     "name": "stdout",
     "output_type": "stream",
     "text": [
      "enter heights:30.9\n",
      "enter heights:55.5\n",
      "enter heights:80.3\n",
      "enter heights:0\n",
      "[30.9, 55.5, 80.3]\n",
      "heights in centimeters:\n",
      "[78.486, 140.97, 203.962]\n"
     ]
    }
   ],
   "source": [
    "\"'Write a program, which reads heights (inches.) of customers into a list and convert these heights to centimeters in a separate list using: 1) Nested Interactive loop. 2) List comprehensions\"''\n",
    "heights_inch=[]\n",
    "while True:\n",
    "    x=float(input(\"enter heights:\"))\n",
    "    if(x<=0):\n",
    "        break\n",
    "    else:\n",
    "        heights_inch.append(x)\n",
    "print(heights_inch)\n",
    "heights_centimeters = [height_inch * 2.54 for height_inch in heights_inch]\n",
    "print(\"heights in centimeters:\")\n",
    "print(list(heights_centimeters))"
   ]
  },
  {
   "cell_type": "code",
   "execution_count": null,
   "id": "268d3b93",
   "metadata": {},
   "outputs": [],
   "source": []
  },
  {
   "cell_type": "code",
   "execution_count": null,
   "id": "b5bec1aa",
   "metadata": {},
   "outputs": [],
   "source": []
  }
 ],
 "metadata": {
  "kernelspec": {
   "display_name": "Python 3 (ipykernel)",
   "language": "python",
   "name": "python3"
  },
  "language_info": {
   "codemirror_mode": {
    "name": "ipython",
    "version": 3
   },
   "file_extension": ".py",
   "mimetype": "text/x-python",
   "name": "python",
   "nbconvert_exporter": "python",
   "pygments_lexer": "ipython3",
   "version": "3.11.4"
  }
 },
 "nbformat": 4,
 "nbformat_minor": 5
}
